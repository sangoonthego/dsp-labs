{
 "cells": [
  {
   "cell_type": "code",
   "execution_count": 1,
   "id": "eecd935d",
   "metadata": {},
   "outputs": [],
   "source": [
    "import numpy as np"
   ]
  },
  {
   "cell_type": "code",
   "execution_count": 12,
   "id": "edbd0ebf",
   "metadata": {},
   "outputs": [],
   "source": [
    "x = np.array([1, 2, 4, -9, 5, 3])\n",
    "h = np.array([1/3, 1/3, 1/3])"
   ]
  },
  {
   "cell_type": "code",
   "execution_count": 13,
   "id": "043a0c0d",
   "metadata": {},
   "outputs": [
    {
     "name": "stdout",
     "output_type": "stream",
     "text": [
      "[ 3.33333333e-01  1.00000000e+00  2.33333333e+00 -1.00000000e+00\n",
      " -2.22044605e-16 -3.33333333e-01  2.66666667e+00  1.00000000e+00]\n"
     ]
    }
   ],
   "source": [
    "def convolve_direct(x, h):\n",
    "    \"\"\"\n",
    "    Tích chập rời rạc 'full' (độ dài = len(x)+len(h)-1).\n",
    "    Cài đặt trực tiếp (naive) O(N*M).\n",
    "    x, h: 1D array-like\n",
    "    trả về: numpy array (float)\n",
    "    \"\"\"\n",
    "    x = np.asarray(x, dtype=float)\n",
    "    h = np.asarray(h, dtype=float)\n",
    "    nx = x.size\n",
    "    nh = h.size\n",
    "    ny = nx + nh - 1\n",
    "    y = np.zeros(ny, dtype=float)\n",
    "    for i in range(nx):\n",
    "        for j in range(nh):\n",
    "            y[i + j] += x[i] * h[j]\n",
    "    return y\n",
    "\n",
    "convolve_direct_val = convolve_direct(x, h)\n",
    "print(convolve_direct_val)"
   ]
  },
  {
   "cell_type": "code",
   "execution_count": 14,
   "id": "8cd2cff6",
   "metadata": {},
   "outputs": [
    {
     "name": "stdout",
     "output_type": "stream",
     "text": [
      "[ 3.33333333e-01  1.00000000e+00  2.33333333e+00 -1.00000000e+00\n",
      " -2.22044605e-16 -3.33333333e-01  2.66666667e+00  1.00000000e+00]\n"
     ]
    }
   ],
   "source": [
    "def convolve_same(x, h):\n",
    "    \"\"\"\n",
    "    Tương tự numpy.convolve(mode='same'): trả về mảng có cùng độ dài như x\n",
    "    (căn giữa dựa trên h).\n",
    "    \"\"\"\n",
    "    x = np.asarray(x, dtype=float)\n",
    "    full = convolve_direct(x, h)\n",
    "    nh = np.asarray(h).size\n",
    "    start = (nh - 1) // 2\n",
    "    return full[start:start + x.size]\n",
    "\n",
    "convolve_same_val = convolve_direct(x, h)\n",
    "print(convolve_same_val)"
   ]
  },
  {
   "cell_type": "code",
   "execution_count": 9,
   "id": "8ec8e050",
   "metadata": {},
   "outputs": [
    {
     "name": "stdout",
     "output_type": "stream",
     "text": [
      "[ 2.33333333e+00 -1.00000000e+00 -2.22044605e-16 -3.33333333e-01]\n"
     ]
    }
   ],
   "source": [
    "def convolve_valid(x, h):\n",
    "    \"\"\"\n",
    "    Trả về 'valid' mode: những vị trí toàn phần h nằm trong x\n",
    "    (độ dài = max(0, len(x)-len(h)+1))\n",
    "    \"\"\"\n",
    "    x = np.asarray(x, dtype=float)\n",
    "    h = np.asarray(h, dtype=float)\n",
    "    nx, nh = x.size, h.size\n",
    "    if nh > nx:\n",
    "        return np.array([])\n",
    "    full = convolve_direct(x, h)\n",
    "    start = nh - 1\n",
    "    end = start + (nx - nh + 1)\n",
    "    return full[start:end]\n",
    "\n",
    "convolve_valid_val = convolve_valid(x, h)\n",
    "print(convolve_valid_val)"
   ]
  },
  {
   "cell_type": "code",
   "execution_count": 15,
   "id": "5aaceb48",
   "metadata": {},
   "outputs": [],
   "source": [
    "def next_pow2(n):\n",
    "    \"\"\"Next power of two >= n\"\"\"\n",
    "    return 1 << ((n - 1).bit_length())\n",
    "\n",
    "# next_pow2_val = next_pow2()"
   ]
  },
  {
   "cell_type": "code",
   "execution_count": 11,
   "id": "03b6681a",
   "metadata": {},
   "outputs": [
    {
     "name": "stdout",
     "output_type": "stream",
     "text": [
      "[ 0.33333333  1.          2.33333333 -1.          0.         -0.33333333\n",
      "  2.66666667  1.        ]\n"
     ]
    }
   ],
   "source": [
    "def convolve_fft(x, h):\n",
    "    \"\"\"\n",
    "    Tích chập bằng FFT (độ dài 'full').\n",
    "    Phù hợp cho tín hiệu dài (complexity ~ O(N log N)).\n",
    "    \"\"\"\n",
    "    x = np.asarray(x, dtype=float)\n",
    "    h = np.asarray(h, dtype=float)\n",
    "    nx, nh = x.size, h.size\n",
    "    n = nx + nh - 1\n",
    "    N = next_pow2(n)  # zero-pad lên 2^k cho nhanh\n",
    "    X = np.fft.fft(x, N)\n",
    "    H = np.fft.fft(h, N)\n",
    "    Y = X * H\n",
    "    y = np.fft.ifft(Y)[:n].real  # loại bỏ phần ảo do sai số số học\n",
    "    return y\n",
    "\n",
    "convolve_fft_val = convolve_fft(x, h)\n",
    "print(convolve_fft_val)"
   ]
  },
  {
   "cell_type": "code",
   "execution_count": 16,
   "id": "534d25ab",
   "metadata": {},
   "outputs": [],
   "source": [
    "y_direct = convolve_direct(x, h)\n",
    "y_fft = convolve_fft(x, h)\n",
    "y_same = convolve_same(x, h)\n",
    "y_valid = convolve_valid(x, h)\n",
    "y_np = np.convolve(x, h)"
   ]
  },
  {
   "cell_type": "code",
   "execution_count": 18,
   "id": "7ca385b1",
   "metadata": {},
   "outputs": [
    {
     "name": "stdout",
     "output_type": "stream",
     "text": [
      "x = [ 1  2  4 -9  5  3]\n",
      "h = [0.33333333 0.33333333 0.33333333]\n",
      "\n",
      "Kết quả (full convolution):\n",
      "convolve_direct: [ 3.33333333e-01  1.00000000e+00  2.33333333e+00 -1.00000000e+00\n",
      " -2.22044605e-16 -3.33333333e-01  2.66666667e+00  1.00000000e+00]\n",
      "\n",
      "convolve_fft   : [ 0.33333333  1.          2.33333333 -1.          0.         -0.33333333\n",
      "  2.66666667  1.        ]\n",
      "\n",
      "numpy.convolve : [ 3.33333333e-01  1.00000000e+00  2.33333333e+00 -1.00000000e+00\n",
      " -2.22044605e-16 -3.33333333e-01  2.66666667e+00  1.00000000e+00]\n"
     ]
    }
   ],
   "source": [
    "print(\"x =\", x)\n",
    "print(\"h =\", h)\n",
    "print(\"\\nKết quả (full convolution):\")\n",
    "print(\"convolve_direct:\", y_direct)\n",
    "print(\"\\nconvolve_fft   :\", np.round(y_fft, 8))\n",
    "print(\"\\nnumpy.convolve :\", y_np)"
   ]
  },
  {
   "cell_type": "code",
   "execution_count": 19,
   "id": "f2aaf843",
   "metadata": {},
   "outputs": [
    {
     "name": "stdout",
     "output_type": "stream",
     "text": [
      "\n",
      "So sánh direct == numpy: True\n",
      "So sánh fft == numpy   : True\n"
     ]
    }
   ],
   "source": [
    "print(\"\\nSo sánh direct == numpy:\", np.allclose(y_direct, y_np))\n",
    "print(\"So sánh fft == numpy   :\", np.allclose(y_fft, y_np))"
   ]
  },
  {
   "cell_type": "code",
   "execution_count": 21,
   "id": "2d52d15a",
   "metadata": {},
   "outputs": [
    {
     "name": "stdout",
     "output_type": "stream",
     "text": [
      "\n",
      "Mode 'same' (cùng độ dài như x): [ 1.00000000e+00  2.33333333e+00 -1.00000000e+00 -2.22044605e-16\n",
      " -3.33333333e-01  2.66666667e+00]\n",
      "\n",
      "Mode 'valid': [ 2.33333333e+00 -1.00000000e+00 -2.22044605e-16 -3.33333333e-01]\n"
     ]
    }
   ],
   "source": [
    "print(\"\\nMode 'same' (cùng độ dài như x):\", y_same)\n",
    "print(\"\\nMode 'valid':\", y_valid)"
   ]
  },
  {
   "cell_type": "code",
   "execution_count": 22,
   "id": "1afd081f",
   "metadata": {},
   "outputs": [
    {
     "name": "stdout",
     "output_type": "stream",
     "text": [
      "\n",
      "Độ dài x: 6 Độ dài h: 3 Độ dài full y: 8\n",
      "Độ phức tạp direct: O(N*M) = 6 * 3\n",
      "Độ phức tạp FFT: ~ O(L log L) với L = 8\n"
     ]
    }
   ],
   "source": [
    "print(\"\\nĐộ dài x:\", x.size, \"Độ dài h:\", h.size, \"Độ dài full y:\", y_direct.size)\n",
    "print(\"Độ phức tạp direct: O(N*M) =\", x.size, \"*\", h.size)\n",
    "print(\"Độ phức tạp FFT: ~ O(L log L) với L =\", next_pow2(x.size + h.size - 1))"
   ]
  },
  {
   "cell_type": "code",
   "execution_count": null,
   "id": "fcc980ef",
   "metadata": {},
   "outputs": [],
   "source": []
  }
 ],
 "metadata": {
  "kernelspec": {
   "display_name": "Python 3",
   "language": "python",
   "name": "python3"
  },
  "language_info": {
   "codemirror_mode": {
    "name": "ipython",
    "version": 3
   },
   "file_extension": ".py",
   "mimetype": "text/x-python",
   "name": "python",
   "nbconvert_exporter": "python",
   "pygments_lexer": "ipython3",
   "version": "3.13.2"
  }
 },
 "nbformat": 4,
 "nbformat_minor": 5
}
